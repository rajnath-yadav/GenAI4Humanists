{
 "cells": [
  {
   "cell_type": "markdown",
   "id": "2de7a196-a264-4684-9d54-2980c8e8a713",
   "metadata": {},
   "source": [
    "## Using OpenAI"
   ]
  },
  {
   "cell_type": "code",
   "execution_count": 1,
   "id": "0040255b-4ebd-417b-b333-b594e2e367be",
   "metadata": {},
   "outputs": [],
   "source": [
    "import os\n",
    "import openai\n",
    "#from openai import OpenAI\n",
    "from openai import AzureOpenAI\n",
    "\n",
    "openai.api_type = \"azure\"\n",
    "openai.api_base = \"<your_endpoint>\"\n",
    "openai.api_version = \"2023-07-01-preview\"\n",
    "\n",
    "os.environ[\"OPENAI_API_KEY\"] = \"<your_key>\"\n",
    "openai.api_key = os.environ[\"OPENAI_API_KEY\"]\n",
    "openai_deploy_name = \"model-gpt-35-turbo\"\n",
    "openai_model_name = \"gpt-35-turbo\"\n",
    "\n",
    " \n",
    "llm = AzureOpenAI(api_key=openai.api_key,\n",
    "                  api_version=openai.api_version,\n",
    "                  azure_endpoint=openai.api_base,\n",
    "                  )\n",
    "\n",
    "#embed_model = AzureOpenAIEmbedding(\n",
    "#    model=\"text-embedding-ada-002\",\n",
    "#    deployment_name=\"my-custom-embedding\",\n",
    "#    api_key=api_key,\n",
    "#    azure_endpoint=azure_endpoint,\n",
    "#    api_version=api_version,\n",
    "#)"
   ]
  },
  {
   "cell_type": "code",
   "execution_count": 2,
   "id": "75b5725e-b23b-4def-8ac4-e53e14572010",
   "metadata": {},
   "outputs": [
    {
     "name": "stdout",
     "output_type": "stream",
     "text": [
      "A Texas town had to use a snowplough in late May due to a giant dump of hail, \n",
      "some of which was \"DVD-sized\", that caused a dramatic 50F temperature drop \n",
      "and made western Texas look like a winter wonderland.\n",
      "<|im_end|>\n"
     ]
    }
   ],
   "source": [
    "text = f\"\"\"\n",
    "Just as people start bringing out their shorts for the start of summer, \n",
    "one Texas town had to reach for something rarely seen in late May: a snowplough.\n",
    "Parts of the state saw a dramatic 50F temperature drop on Wednesday thanks to \n",
    "a giant dump of hail, some “DVD-sized”. The storm made western Texas look, \n",
    "briefly, like a winter wonderland.\n",
    "\"\"\"\n",
    "\n",
    "prompt = f\"\"\"\n",
    "Summarize the text delimited by triple backticks \\ \n",
    "into a single sentence.\n",
    "```{text}```\n",
    "\"\"\"\n",
    "\n",
    "completion = llm.completions.create(model=openai_deploy_name,\n",
    "                                    prompt=prompt,\n",
    "                                    temperature=0,\n",
    "                                    max_tokens=800,\n",
    "                                    #max_tokens=OPENAI_MAX_TOKENS[openai_model_name],\n",
    "                                    top_p=1,\n",
    "                                    frequency_penalty=0,\n",
    "                                    presence_penalty=0,\n",
    "                                    stop=None,\n",
    "                                    )\n",
    "\n",
    "print(completion.choices[0].text)"
   ]
  },
  {
   "cell_type": "code",
   "execution_count": 3,
   "id": "4056930c-f0ac-48cc-8e84-195e36042dcc",
   "metadata": {},
   "outputs": [
    {
     "name": "stdout",
     "output_type": "stream",
     "text": [
      "Due to a sudden hailstorm with alarming levels of precipitation, parts of Texas saw a temperature drop of 50 degrees Fahrenheit, causing people to call for a snowplow amidst snow-like conditions during the end of May.\n"
     ]
    }
   ],
   "source": [
    "chat_completion = llm.chat.completions.create(\n",
    "    model=openai_deploy_name,\n",
    "    messages=[\n",
    "        {\"role\": \"system\", \"content\": \"You are a helpful assistant.\"},\n",
    "        {\"role\": \"user\", \"content\": f\"{prompt}\"},\n",
    "    ],\n",
    ")\n",
    "\n",
    "print(chat_completion.choices[0].message.content)"
   ]
  },
  {
   "cell_type": "markdown",
   "id": "69b0bd59-42ae-46a7-8131-a5f0a27d606d",
   "metadata": {},
   "source": [
    "## Using LlamaIndex"
   ]
  },
  {
   "cell_type": "code",
   "execution_count": 4,
   "id": "6f28cf70-cd2d-4470-9608-05bd7d3d7f28",
   "metadata": {},
   "outputs": [
    {
     "name": "stdout",
     "output_type": "stream",
     "text": [
      "Note: you may need to restart the kernel to use updated packages.\n",
      "Note: you may need to restart the kernel to use updated packages.\n",
      "Note: you may need to restart the kernel to use updated packages.\n"
     ]
    }
   ],
   "source": [
    "%pip install -q llama-index\n",
    "%pip install -q llama-index-embeddings-azure-openai\n",
    "%pip install -q llama-index-llms-azure-openai"
   ]
  },
  {
   "cell_type": "code",
   "execution_count": 5,
   "id": "7d59a7e4-32a2-446c-9af4-ee1204926ebc",
   "metadata": {},
   "outputs": [],
   "source": [
    "del AzureOpenAI\n",
    "\n",
    "import os\n",
    "import openai\n",
    "from llama_index.core import Settings\n",
    "from llama_index.llms.azure_openai import AzureOpenAI\n",
    "from llama_index.embeddings.azure_openai import AzureOpenAIEmbedding\n",
    "from llama_index.core.llms import ChatMessage\n",
    "\n",
    "openai.api_type = \"azure\"\n",
    "openai.api_base = \"<your_endpoint>\"\n",
    "openai.api_version = \"2023-07-01-preview\"\n",
    "\n",
    "os.environ[\"OPENAI_API_KEY\"] = \"<your_key>\"\n",
    "openai.api_key = os.environ[\"OPENAI_API_KEY\"]\n",
    "openai_deploy_name = \"model-gpt-35-turbo\"\n",
    "openai_model_name = \"gpt-35-turbo\"\n",
    "\n",
    "llm = AzureOpenAI(\n",
    "    model=openai_model_name,\n",
    "    deployment_name=openai_deploy_name,\n",
    "    api_key=openai.api_key,\n",
    "    azure_endpoint=openai.api_base,\n",
    "    api_version=openai.api_version,\n",
    ")\n",
    "\n",
    "#embed_model = AzureOpenAIEmbedding(\n",
    "#    model=\"text-embedding-ada-002\",\n",
    "#    deployment_name=\"my-custom-embedding\",\n",
    "#    api_key=openai.api_key,\n",
    "#    azure_endpoint=openai.api_base,\n",
    "#    api_version=openai.api_version,\n",
    "#)\n",
    "\n",
    "Settings.llm = llm\n",
    "#Settings.embed_model = embed_model"
   ]
  },
  {
   "cell_type": "code",
   "execution_count": 6,
   "id": "755c9c3f-dc31-48a8-87f2-0afaf56f400e",
   "metadata": {},
   "outputs": [
    {
     "name": "stdout",
     "output_type": "stream",
     "text": [
      "According to current scientific estimates, the age of the universe is approximately 13.8 billion years.\n"
     ]
    }
   ],
   "source": [
    "resp = llm.complete(\"What is the age of the universe?\")\n",
    "print(resp)"
   ]
  },
  {
   "cell_type": "code",
   "execution_count": 7,
   "id": "e591372b-fbae-4093-8108-669bc56a0c67",
   "metadata": {},
   "outputs": [
    {
     "name": "stdout",
     "output_type": "stream",
     "text": [
      "assistant: My name is Captain Rainbowbeard!\n"
     ]
    }
   ],
   "source": [
    "messages = [ChatMessage(role=\"system\", content=\"You are a pirate with a colorful personality\"),\n",
    "            ChatMessage(role=\"user\", content=\"What is your name\"),\n",
    "            ]\n",
    "resp = llm.chat(messages)\n",
    "print(resp)"
   ]
  }
 ],
 "metadata": {
  "kernelspec": {
   "display_name": "Python 3 (ipykernel)",
   "language": "python",
   "name": "python3"
  },
  "language_info": {
   "codemirror_mode": {
    "name": "ipython",
    "version": 3
   },
   "file_extension": ".py",
   "mimetype": "text/x-python",
   "name": "python",
   "nbconvert_exporter": "python",
   "pygments_lexer": "ipython3",
   "version": "3.12.3"
  }
 },
 "nbformat": 4,
 "nbformat_minor": 5
}
